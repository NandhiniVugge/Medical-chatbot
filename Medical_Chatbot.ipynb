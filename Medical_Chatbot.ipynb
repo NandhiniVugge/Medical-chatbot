{
  "nbformat": 4,
  "nbformat_minor": 0,
  "metadata": {
    "colab": {
      "provenance": []
    },
    "kernelspec": {
      "name": "python3",
      "display_name": "Python 3"
    },
    "language_info": {
      "name": "python"
    }
  },
  "cells": [
    {
      "cell_type": "code",
      "source": [
        "# Import necessary libraries\n",
        "import json\n",
        "import os"
      ],
      "metadata": {
        "id": "GCASdJtuDxxo"
      },
      "execution_count": 19,
      "outputs": []
    },
    {
      "cell_type": "code",
      "source": [
        "# Step 1 - Get current working directory\n",
        "folder_path = os.getcwd()\n",
        "file_path = os.path.join(folder_path, \"diseases.json\")\n",
        "print(f\"Working directory: {folder_path}\")\n",
        "print(f\"JSON file will be at: {file_path}\")"
      ],
      "metadata": {
        "colab": {
          "base_uri": "https://localhost:8080/"
        },
        "id": "ZbRifmQlDzZk",
        "outputId": "a9751328-c234-4080-b3c9-4ff06e5b4210"
      },
      "execution_count": 18,
      "outputs": [
        {
          "output_type": "stream",
          "name": "stdout",
          "text": [
            "Working directory: /content\n",
            "JSON file will be at: /content/diseases.json\n"
          ]
        }
      ]
    },
    {
      "cell_type": "code",
      "source": [
        "# Step 2 - Define the disease dataset\n",
        "diseases_data = {\n",
        "    \"diabetes\": {\n",
        "        \"causes\": \"Genetic factors, obesity, lack of exercise, unhealthy diet.\",\n",
        "        \"precautions\": [\n",
        "            \"Maintain a healthy weight\",\n",
        "            \"Exercise regularly\",\n",
        "            \"Monitor blood sugar levels\",\n",
        "            \"Take medications as prescribed\"\n",
        "        ]\n",
        "    },\n",
        "    \"malaria\": {\n",
        "        \"causes\": \"Plasmodium parasites transmitted by mosquitoes.\",\n",
        "        \"precautions\": [\n",
        "            \"Use mosquito nets\",\n",
        "            \"Apply insect repellents\",\n",
        "            \"Take anti-malarial medicines\",\n",
        "            \"Remove stagnant water sources\"\n",
        "        ]\n",
        "    },\n",
        "    \"hypertension\": {\n",
        "        \"causes\": \"High salt intake, stress, obesity, lack of exercise.\",\n",
        "        \"precautions\": [\n",
        "            \"Reduce salt consumption\",\n",
        "            \"Exercise regularly\",\n",
        "            \"Manage stress\",\n",
        "            \"Monitor blood pressure levels\"\n",
        "        ]\n",
        "    },\n",
        "    \"asthma\": {\n",
        "        \"causes\": \"Allergies, air pollution, respiratory infections, genetics.\",\n",
        "        \"precautions\": [\n",
        "            \"Avoid allergens\",\n",
        "            \"Use prescribed inhalers\",\n",
        "            \"Maintain clean living spaces\",\n",
        "            \"Regular health check-ups\"\n",
        "        ]\n",
        "    },\n",
        "    \"covid-19\": {\n",
        "        \"causes\": \"SARS-CoV-2 virus transmitted via respiratory droplets.\",\n",
        "        \"precautions\": [\n",
        "            \"Wear masks\",\n",
        "            \"Practice social distancing\",\n",
        "            \"Sanitize hands frequently\",\n",
        "            \"Get vaccinated\"\n",
        "        ]\n",
        "    },\n",
        "    \"flu\": {\n",
        "        \"causes\": \"Influenza virus spread through droplets.\",\n",
        "        \"precautions\": [\n",
        "            \"Get annual flu shots\",\n",
        "            \"Wash hands regularly\",\n",
        "            \"Avoid close contact with sick individuals\",\n",
        "            \"Rest and hydrate\"\n",
        "        ]\n",
        "    },\n",
        "    \"arthritis\": {\n",
        "        \"causes\": \"Age, joint injuries, autoimmune diseases.\",\n",
        "        \"precautions\": [\n",
        "            \"Maintain joint mobility through exercise\",\n",
        "            \"Use anti-inflammatory medications\",\n",
        "            \"Maintain healthy body weight\",\n",
        "            \"Avoid stress on joints\"\n",
        "        ]\n",
        "    },\n",
        "    \"tuberculosis\": {\n",
        "        \"causes\": \"Mycobacterium tuberculosis infection through air droplets.\",\n",
        "        \"precautions\": [\n",
        "            \"Complete prescribed antibiotic course\",\n",
        "            \"Maintain good hygiene\",\n",
        "            \"Ensure proper ventilation\",\n",
        "            \"Isolate from others when contagious\"\n",
        "        ]\n",
        "    },\n",
        "    \"hepatitis\": {\n",
        "        \"causes\": \"Viral infections like hepatitis A, B, C spread through contaminated water or blood.\",\n",
        "        \"precautions\": [\n",
        "            \"Get vaccinated\",\n",
        "            \"Avoid sharing needles\",\n",
        "            \"Practice safe sex\",\n",
        "            \"Use clean drinking water\"\n",
        "        ]\n",
        "    },\n",
        "    \"dengue\": {\n",
        "        \"causes\": \"Aedes mosquito bite carrying dengue virus.\",\n",
        "        \"precautions\": [\n",
        "            \"Eliminate stagnant water\",\n",
        "            \"Use mosquito repellents\",\n",
        "            \"Wear protective clothing\",\n",
        "            \"Stay indoors during peak mosquito hours\"\n",
        "        ]\n",
        "    },\n",
        "    \"chickenpox\": {\n",
        "        \"causes\": \"Varicella-zoster virus transmitted through droplets or contact.\",\n",
        "        \"precautions\": [\n",
        "            \"Get vaccinated\",\n",
        "            \"Avoid close contact with infected individuals\",\n",
        "            \"Keep skin clean\",\n",
        "            \"Use medications to relieve symptoms\"\n",
        "        ]\n",
        "    },\n",
        "    \"eczema\": {\n",
        "        \"causes\": \"Genetics, allergies, irritants, stress.\",\n",
        "        \"precautions\": [\n",
        "            \"Use moisturizing creams\",\n",
        "            \"Avoid allergens and irritants\",\n",
        "            \"Maintain proper skin care\",\n",
        "            \"Consult a dermatologist\"\n",
        "        ]\n",
        "    },\n",
        "    \"pneumonia\": {\n",
        "        \"causes\": \"Bacterial, viral or fungal infections affecting lungs.\",\n",
        "        \"precautions\": [\n",
        "            \"Get vaccinated\",\n",
        "            \"Avoid smoking\",\n",
        "            \"Practice good hygiene\",\n",
        "            \"Consult a doctor if symptoms worsen\"\n",
        "        ]\n",
        "    },\n",
        "    \"migraine\": {\n",
        "        \"causes\": \"Stress, hormonal changes, sleep disturbances, certain foods.\",\n",
        "        \"precautions\": [\n",
        "            \"Maintain a regular sleep schedule\",\n",
        "            \"Avoid trigger foods\",\n",
        "            \"Manage stress\",\n",
        "            \"Use prescribed medications\"\n",
        "        ]\n",
        "    },\n",
        "    \"obesity\": {\n",
        "        \"causes\": \"Poor diet, lack of exercise, genetics, hormonal disorders.\",\n",
        "        \"precautions\": [\n",
        "            \"Follow a balanced diet\",\n",
        "            \"Exercise regularly\",\n",
        "            \"Monitor weight\",\n",
        "            \"Seek professional advice\"\n",
        "        ]\n",
        "    }\n",
        "}\n",
        "\n",
        "\n"
      ],
      "metadata": {
        "id": "pTUeMthRERhZ"
      },
      "execution_count": 21,
      "outputs": []
    },
    {
      "cell_type": "code",
      "source": [
        "# Step 3 - Save the data to diseases.json\n",
        "with open(file_path, 'w') as file:\n",
        "    json.dump(diseases_data, file, indent=4)\n",
        "\n",
        "print(\"diseases.json has been created successfully!\")"
      ],
      "metadata": {
        "colab": {
          "base_uri": "https://localhost:8080/"
        },
        "id": "oUYduerREnrh",
        "outputId": "9014376c-b3c5-4d6a-debd-0afbff0da7ff"
      },
      "execution_count": 24,
      "outputs": [
        {
          "output_type": "stream",
          "name": "stdout",
          "text": [
            "diseases.json has been created successfully!\n"
          ]
        }
      ]
    },
    {
      "cell_type": "code",
      "source": [
        "# Step 4 - Load the data from diseases.json\n",
        "with open(file_path, 'r') as file:\n",
        "    diseases = json.load(file)\n",
        "\n"
      ],
      "metadata": {
        "id": "7h83bf8vE7u7"
      },
      "execution_count": 26,
      "outputs": []
    },
    {
      "cell_type": "code",
      "source": [
        "# Step 5 - Chatbot function\n",
        "def medical_chatbot():\n",
        "    print(\"\\nWelcome to the Medical Chatbot!\")\n",
        "    print(\"Enter a disease name to get causes and precautions:\")\n",
        "    disease_name = input().lower().strip()\n",
        "\n",
        "    if disease_name in diseases:\n",
        "        info = diseases[disease_name]\n",
        "        print(f\"\\nDisease: {disease_name.capitalize()}\")\n",
        "        print(f\"Causes: {info['causes']}\")\n",
        "        print(\"Precautions:\")\n",
        "        for idx, precaution in enumerate(info['precautions'], 1):\n",
        "            print(f\"{idx}. {precaution}\")\n",
        "    else:\n",
        "        print(f\"\\nSorry, no information available for '{disease_name}'. Please consult a healthcare provider.\")\n",
        "\n"
      ],
      "metadata": {
        "id": "Uuf82IjfFHJT"
      },
      "execution_count": 28,
      "outputs": []
    },
    {
      "cell_type": "code",
      "source": [
        "# Step 6 - Run the chatbot\n",
        "medical_chatbot()\n"
      ],
      "metadata": {
        "colab": {
          "base_uri": "https://localhost:8080/"
        },
        "id": "kNbhtUNQFPPV",
        "outputId": "b24287e4-c618-42c9-cb7e-ccbe96cf77d4"
      },
      "execution_count": 30,
      "outputs": [
        {
          "output_type": "stream",
          "name": "stdout",
          "text": [
            "\n",
            "Welcome to the Medical Chatbot!\n",
            "Enter a disease name to get causes and precautions:\n",
            "migraine\n",
            "\n",
            "Disease: Migraine\n",
            "Causes: Stress, hormonal changes, sleep disturbances, certain foods.\n",
            "Precautions:\n",
            "1. Maintain a regular sleep schedule\n",
            "2. Avoid trigger foods\n",
            "3. Manage stress\n",
            "4. Use prescribed medications\n"
          ]
        }
      ]
    }
  ]
}